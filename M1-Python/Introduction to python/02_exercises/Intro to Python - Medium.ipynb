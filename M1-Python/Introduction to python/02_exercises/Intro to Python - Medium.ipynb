{
 "cells": [
  {
   "cell_type": "markdown",
   "metadata": {},
   "source": [
    "Here you have a collection of guided exercises for the first class on Python. <br>\n",
    "The exercises are divided by topic, following the topics reviewed during the theory session, and for each topic you have some mandatory exercises, and other optional exercises, which you are invited to do if you still have time after the mandatory exercises. <br>\n",
    "\n",
    "Remember that you have 5 hours to solve these exercises, after which we will review the most interesting exercises together. If you don't finish all the exercises, you can work on them tonightor tomorrow. \n",
    "\n",
    "At the end of the class, we will upload the code with the solutions of the exercises so that you can review them again if needed. If you still have not finished some exercises, try to do them first by yourself, before taking a look at the solutions: you are doing these exercises for yourself, so it is always the best to do them your way first, as it is the fastest way to learn!"
   ]
  },
  {
   "cell_type": "markdown",
   "metadata": {},
   "source": [
    "**Exercise 1.3 (🌶️):** You look at the clock and see that it is currently 14.00h. You set an alarm to go off 535 hours later. At what time will the alarm go off? Write a program that prints the answer. Hint: for the best solution, you will need the modulo operator. Second hint: The answer is 21.00h, but of course, this exercise is not about the answer, but about how you get it."
   ]
  },
  {
   "cell_type": "code",
   "execution_count": 35,
   "metadata": {},
   "outputs": [
    {
     "output_type": "stream",
     "name": "stdout",
     "text": [
      "Start time:  2021-06-30 14:00:00\nWake up!  -  2021-07-22 21:00:00\n"
     ]
    }
   ],
   "source": [
    "#import library\n",
    "from datetime import datetime, timedelta\n",
    "\n",
    "hours_later = timedelta(hours = 535)\n",
    "\n",
    "#Start time\n",
    "start_time = datetime(2021, 6, 30, 14, 0, 0)\n",
    "\n",
    "#End time\n",
    "end_time = start_time + hours_later\n",
    "\n",
    "print(\"Start time: \", str(start_time))\n",
    "print(\"Wake up!  - \", str(end_time))\n",
    "\n"
   ]
  },
  {
   "cell_type": "markdown",
   "metadata": {},
   "source": [
    "**Exercise 5.4 (🌶️):** \"99 bottles of beer\" is a traditional song in the United States and Canada. It is popular to sing on long trips, as it has a very repetitive format which is easy to memorize, and can take a long time to sing. The song's simple lyrics are as follows: \"99 bottles of beer on the wall, 99 bottles of beer. Take one down, pass it around, 98 bottles of beer on the wall.\" The same verse is repeated, each time with one fewer bottle. The song is completed when the singer or singers reach zero. Write a function that generates and prints all the verses of the song (though you might start a bit lower, for instance with 10 bottles). Make sure that your loop is not endless, and that you use the proper inflection for the word \"bottle\"."
   ]
  },
  {
   "cell_type": "code",
   "execution_count": 38,
   "metadata": {},
   "outputs": [
    {
     "output_type": "stream",
     "name": "stdout",
     "text": [
      "10 bootles of beer on the wall, 10 bottles of beer. Take one down, pass it around, 9 bootles of beer on the wall,\n9 bootles of beer on the wall, 9 bottles of beer. Take one down, pass it around, 8 bootles of beer on the wall,\n8 bootles of beer on the wall, 8 bottles of beer. Take one down, pass it around, 7 bootles of beer on the wall,\n7 bootles of beer on the wall, 7 bottles of beer. Take one down, pass it around, 6 bootles of beer on the wall,\n6 bootles of beer on the wall, 6 bottles of beer. Take one down, pass it around, 5 bootles of beer on the wall,\n5 bootles of beer on the wall, 5 bottles of beer. Take one down, pass it around, 4 bootles of beer on the wall,\n4 bootles of beer on the wall, 4 bottles of beer. Take one down, pass it around, 3 bootles of beer on the wall,\n3 bootles of beer on the wall, 3 bottles of beer. Take one down, pass it around, 2 bootles of beer on the wall,\n2 bootles of beer on the wall, 2 bottles of beer. Take one down, pass it around, 1 bootles of beer on the wall,\n1 bootles of beer on the wall, 1 bottles of beer. Take one down, pass it around, 0 bootles of beer on the wall,\n"
     ]
    }
   ],
   "source": [
    "#Your Code Here\n",
    "def beersong(bottles):\n",
    "    word_bottles_wall = \"bootles of beer on the wall,\"\n",
    "    word_bottles_beer = \"bottles of beer.\"\n",
    "    word_bottles_take_down = \"Take one down, pass it around,\"\n",
    "\n",
    "    for i in range(bottles, 0, -1):\n",
    "        print(str(i), word_bottles_wall, str(i), word_bottles_beer, word_bottles_take_down, str(i-1), word_bottles_wall)\n",
    "\n",
    "beersong(10)"
   ]
  },
  {
   "cell_type": "markdown",
   "metadata": {},
   "source": [
    "**Exercise 5.5 (🌶️):** The Fibonacci sequence is a sequence of numbers that starts with 1, followed by 1 again. Every next number is the sum of the two previous numbers. I.e., the sequence starts with 1, 1, 2, 3, 5, 8, 13, 21,... Write a function that calculates and prints the Fibonacci sequence until the numbers get higher than a `maximum`."
   ]
  },
  {
   "cell_type": "code",
   "execution_count": 39,
   "metadata": {},
   "outputs": [
    {
     "output_type": "stream",
     "name": "stdout",
     "text": [
      "0 1 1 2 3 5 8 13 21 \n"
     ]
    }
   ],
   "source": [
    "#Fibonacci\n",
    "\n",
    "def fibonacci(finish_number):\n",
    "    a, b = 0, 1\n",
    "    while a < finish_number:\n",
    "        print(a, end= ' ')\n",
    "        a, b = b, a+b\n",
    "    print() \n",
    "fibonacci(22)\n",
    "\n"
   ]
  },
  {
   "cell_type": "markdown",
   "metadata": {},
   "source": [
    "**Exercise 5.8 (🌶️):** A, B, C, and D are all different digits. The number DCBA is equal to 4 times the number ABCD. What are the digits? Note: to make ABCD and DCBA conventional numbers, neither A nor D can be zero. Use a quadruple-nested loop."
   ]
  },
  {
   "cell_type": "code",
   "execution_count": 51,
   "metadata": {
    "tags": []
   },
   "outputs": [
    {
     "output_type": "stream",
     "name": "stdout",
     "text": [
      "a= 2 b= 1 c= 7 d= 8\n"
     ]
    }
   ],
   "source": [
    "#Your Code Here\n",
    "# Solve 4*ABCD == DCBA\n",
    "def nested_nest():\n",
    "\n",
    "    for A in range(1, 9):\n",
    "        for B in range(0, 9):\n",
    "            for C in range(0, 9):\n",
    "                for D in range(1, 9):\n",
    "                    if 4*( 1000 * A + 100 * B + 10 * C + D) == \\\n",
    "                        (A + 10 * B + 100 * C + 1000 * D):\n",
    "                        print(\"a=\", A, \"b=\", B, \"c=\", C, \"d=\", D)\n",
    "    return\n",
    "    \n",
    "nested_nest()"
   ]
  },
  {
   "cell_type": "code",
   "execution_count": null,
   "metadata": {},
   "outputs": [],
   "source": []
  }
 ],
 "metadata": {
  "kernelspec": {
   "name": "python3",
   "display_name": "Python 3.9.6 64-bit"
  },
  "language_info": {
   "codemirror_mode": {
    "name": "ipython",
    "version": 3
   },
   "file_extension": ".py",
   "mimetype": "text/x-python",
   "name": "python",
   "nbconvert_exporter": "python",
   "pygments_lexer": "ipython3",
   "version": "3.9.6"
  },
  "interpreter": {
   "hash": "97ee0fd45bbf781191b8e8b0b07fb4f4d4cb27e07caa9e3e3e21db1d0f326d14"
  }
 },
 "nbformat": 4,
 "nbformat_minor": 4
}