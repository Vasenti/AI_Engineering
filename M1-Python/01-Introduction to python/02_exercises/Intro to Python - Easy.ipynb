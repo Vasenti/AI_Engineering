{
 "cells": [
  {
   "cell_type": "markdown",
   "metadata": {},
   "source": [
    "Here you have a collection of guided exercises for the first class on Python. <br>\n",
    "The exercises are divided by topic, following the topics reviewed during the theory session, and for each topic you have some mandatory exercises, and other optional exercises, which you are invited to do if you still have time after the mandatory exercises. <br>\n",
    "\n",
    "Remember that you have 5 hours to solve these exercises, after which we will review the most interesting exercises together. If you don't finish all the exercises, you can work on them tonightor tomorrow. \n",
    "\n",
    "At the end of the class, we will upload the code with the solutions of the exercises so that you can review them again if needed. If you still have not finished some exercises, try to do them first by yourself, before taking a look at the solutions: you are doing these exercises for yourself, so it is always the best to do them your way first, as it is the fastest way to learn!"
   ]
  },
  {
   "cell_type": "markdown",
   "metadata": {},
   "source": [
    "**Exercise 1.1:** The cover price of a book is 24.95 EUR, but bookstores get a 40 percent discount. Shipping costs 3 EUR for the first copy and 75 cents for each additional copy. **Calculate the total wholesale costs for 60 copies**. "
   ]
  },
  {
   "cell_type": "code",
   "execution_count": 2,
   "metadata": {},
   "outputs": [
    {
     "output_type": "stream",
     "name": "stdout",
     "text": [
      "945.4499999999999\n"
     ]
    }
   ],
   "source": [
    "#Declaring initial variables\n",
    "book_price = 24.95\n",
    "percent_discount = 40\n",
    "shipping_base_cost = 3\n",
    "additional_copy_cost = 0.75\n",
    "copies = 60\n",
    "total = 0\n",
    "\n",
    "#Calculate discount books price\n",
    "books_cost = book_price * copies\n",
    "discount = (percent_discount / 100) * books_cost\n",
    "books_cost_discounted = books_cost - discount\n",
    "\n",
    "#Calculate shipping cost\n",
    "shipping_cost = 0.0\n",
    "if copies > 1:\n",
    "    shipping_cost = shipping_base_cost + (additional_copy_cost * (copies - 1))\n",
    "else:\n",
    "    shipping_cost = shipping_base_cost\n",
    "\n",
    "#Calculate total\n",
    "total = books_cost_discounted + shipping_cost\n",
    "print(total)\n",
    "\n"
   ]
  },
  {
   "source": [
    "**Exercise 1.2:** When something is wrong with your code, Python will raise errors. Often these will be \"syntax errors\" that signal that something is wrong with the form of your code (e.g., the code in the previous exercise raised a `SyntaxError`). There are also \"runtime errors\", which signal that your code was in itself formally correct, but that something went wrong during the code's execution. A good example is the `ZeroDivisionError`, which indicates that you tried to divide a number by zero (which, as you may know, is not allowed). Try to make Python **raise such a `ZeroDivisionError`.**"
   ],
   "cell_type": "code",
   "metadata": {},
   "execution_count": 6,
   "outputs": [
    {
     "output_type": "error",
     "ename": "SyntaxError",
     "evalue": "invalid syntax (<ipython-input-6-2a8ee1eb432d>, line 1)",
     "traceback": [
      "\u001b[1;36m  File \u001b[1;32m\"<ipython-input-6-2a8ee1eb432d>\"\u001b[1;36m, line \u001b[1;32m1\u001b[0m\n\u001b[1;33m    **Exercise 1.2:** When something is wrong with your code, Python will raise errors. Often these will be \"syntax errors\" that signal that something is wrong with the form of your code (e.g., the code in the previous exercise raised a `SyntaxError`). There are also \"runtime errors\", which signal that your code was in itself formally correct, but that something went wrong during the code's execution. A good example is the `ZeroDivisionError`, which indicates that you tried to divide a number by zero (which, as you may know, is not allowed). Try to make Python **raise such a `ZeroDivisionError`.**\u001b[0m\n\u001b[1;37m    ^\u001b[0m\n\u001b[1;31mSyntaxError\u001b[0m\u001b[1;31m:\u001b[0m invalid syntax\n"
     ]
    }
   ]
  },
  {
   "cell_type": "code",
   "execution_count": null,
   "metadata": {},
   "outputs": [],
   "source": [
    "#Error example\n",
    "division_error = 3 / 0"
   ]
  },
  {
   "cell_type": "markdown",
   "metadata": {},
   "source": [
    "**Exercise 5.1**: Create a countdown function that starts at a certain count, and counts down to zero. Instead of zero, print \"Blast off!\". Use a `for` loop. \n"
   ]
  },
  {
   "cell_type": "code",
   "execution_count": 33,
   "metadata": {},
   "outputs": [
    {
     "output_type": "stream",
     "name": "stdout",
     "text": [
      "20\n19\n18\n17\n16\n15\n14\n13\n12\n11\n10\n9\n8\n7\n6\n5\n4\n3\n2\n1\nBlast off!\n"
     ]
    }
   ],
   "source": [
    "# Countdown\n",
    "def countdown(counting):\n",
    "\n",
    "    for i in range(counting , 0, -1):\n",
    "        print(str(i))\n",
    "        if i == 1:\n",
    "            print(\"Blast off!\")\n",
    "\n",
    "countdown(20)\n"
   ]
  },
  {
   "cell_type": "markdown",
   "metadata": {},
   "source": [
    "**Exercise 5.2:** Write and test three functions that return the largest, the smallest, and the number of dividables by 3 in a given collection of numbers. Use the algorithm described earlier in the Part 5 lecture :)"
   ]
  },
  {
   "cell_type": "code",
   "execution_count": 54,
   "metadata": {},
   "outputs": [
    {
     "output_type": "stream",
     "name": "stdout",
     "text": [
      "Largest number:  100\nSmaller number:  2\nDivisable numbers:  4\n"
     ]
    }
   ],
   "source": [
    "# Your functions\n",
    "def largest_number(collection):\n",
    "    return max(collection)\n",
    "\n",
    "def smaller_number(collection):\n",
    "    return min(collection)\n",
    "\n",
    "def dividable_by(number, collection):\n",
    "    divisable_numbers = []\n",
    "    for i in range(len(collection)):\n",
    "        if collection[i] % number == 0:\n",
    "            divisable_numbers.append(collection[i])\n",
    "    return len(divisable_numbers)\n",
    "    \n",
    "def main():\n",
    "    a = [2, 4, 6, 12, 15, 99, 100]\n",
    "    \n",
    "    print(\"Largest number: \", str(largest_number(a)))\n",
    "    print(\"Smaller number: \", str(smaller_number(a)))\n",
    "    print(\"Divisable numbers: \", str(dividable_by(3, a)))\n",
    "\n",
    "main()"
   ]
  },
  {
   "cell_type": "code",
   "execution_count": null,
   "metadata": {},
   "outputs": [],
   "source": []
  }
 ],
 "metadata": {
  "kernelspec": {
   "name": "python3",
   "display_name": "Python 3.9.6 64-bit"
  },
  "language_info": {
   "codemirror_mode": {
    "name": "ipython",
    "version": 3
   },
   "file_extension": ".py",
   "mimetype": "text/x-python",
   "name": "python",
   "nbconvert_exporter": "python",
   "pygments_lexer": "ipython3",
   "version": "3.9.6"
  },
  "interpreter": {
   "hash": "97ee0fd45bbf781191b8e8b0b07fb4f4d4cb27e07caa9e3e3e21db1d0f326d14"
  }
 },
 "nbformat": 4,
 "nbformat_minor": 4
}